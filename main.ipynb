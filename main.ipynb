{
 "cells": [
  {
   "cell_type": "code",
   "execution_count": 339,
   "id": "0f6530db",
   "metadata": {},
   "outputs": [],
   "source": [
    "import pandas as pd\n",
    "import numpy as np"
   ]
  },
  {
   "cell_type": "code",
   "execution_count": 340,
   "id": "f26d311b",
   "metadata": {},
   "outputs": [],
   "source": [
    "df = pd.read_csv(\"train.csv\")"
   ]
  },
  {
   "cell_type": "code",
   "execution_count": 341,
   "id": "d0c61bb3",
   "metadata": {},
   "outputs": [
    {
     "data": {
      "text/plain": [
       "<bound method NDFrame.head of       Property_ID       Property_Type  Property_Area  Number_of_Windows  \\\n",
       "0          0x21e3           Apartment            106                NaN   \n",
       "1          0x68d4           Apartment            733                2.0   \n",
       "2          0x7d81           Apartment            737                4.0   \n",
       "3          0x7a57           Apartment            900                3.0   \n",
       "4          0x9409            Bungalow           2238               14.0   \n",
       "...           ...                 ...            ...                ...   \n",
       "39494      0x6e26  Single-family home           1120                3.0   \n",
       "39495      0xa013           Apartment            445                1.0   \n",
       "39496      0x9721            Bungalow           3780                6.0   \n",
       "39497      0x7e25  Single-family home           1266                3.0   \n",
       "39498      0x8cb4  Single-family home           1229                2.0   \n",
       "\n",
       "       Number_of_Doors       Furnishing  Frequency_of_Powercuts Power_Backup  \\\n",
       "0                    1   Semi_Furnished                     0.0           No   \n",
       "1                    2      Unfurnished                     1.0           No   \n",
       "2                    2  Fully Furnished                     0.0           No   \n",
       "3                    2      Unfurnished                     2.0          Yes   \n",
       "4                    6  Fully Furnished                     0.0           No   \n",
       "...                ...              ...                     ...          ...   \n",
       "39494                2              NaN                     0.0           No   \n",
       "39495                3  Fully Furnished                     1.0           No   \n",
       "39496                6      Unfurnished                     0.0          Yes   \n",
       "39497                1   Semi_Furnished                     0.0           No   \n",
       "39498                4  Fully Furnished                     0.0           No   \n",
       "\n",
       "                  Water_Supply  Traffic_Density_Score              Crime_Rate  \\\n",
       "0      Once in a day - Morning                   5.89  Slightly below average   \n",
       "1      Once in a day - Evening                   4.37      Well below average   \n",
       "2      Once in a day - Morning                   7.45  Slightly below average   \n",
       "3      Once in a day - Morning                   6.16      Well above average   \n",
       "4                     All time                   5.46      Well below average   \n",
       "...                        ...                    ...                     ...   \n",
       "39494                 All time                   5.55  Slightly above average   \n",
       "39495                 All time                   5.70  Slightly above average   \n",
       "39496         Once in two days                   6.84      Well below average   \n",
       "39497  Once in a day - Morning                   4.60  Slightly above average   \n",
       "39498                 All time                   8.29      Well below average   \n",
       "\n",
       "      Dust_and_Noise  Air_Quality_Index  Neighborhood_Review  \\\n",
       "0             Medium                 90                 3.86   \n",
       "1             Medium                 96                 3.55   \n",
       "2             Medium                121                 3.81   \n",
       "3             Medium                100                 1.34   \n",
       "4             Medium                116                 4.77   \n",
       "...              ...                ...                  ...   \n",
       "39494         Medium                 80                 3.56   \n",
       "39495         Medium                 86                 2.93   \n",
       "39496         Medium                137                 3.80   \n",
       "39497            NaN                 88                 3.25   \n",
       "39498           High                132                 4.67   \n",
       "\n",
       "       Habitability_score  \n",
       "0                   71.98  \n",
       "1                   71.20  \n",
       "2                   71.39  \n",
       "3                   31.46  \n",
       "4                   93.70  \n",
       "...                   ...  \n",
       "39494               73.43  \n",
       "39495               79.91  \n",
       "39496               81.44  \n",
       "39497               71.33  \n",
       "39498               83.25  \n",
       "\n",
       "[39499 rows x 15 columns]>"
      ]
     },
     "execution_count": 341,
     "metadata": {},
     "output_type": "execute_result"
    }
   ],
   "source": [
    "df.head\n"
   ]
  },
  {
   "cell_type": "code",
   "execution_count": 342,
   "id": "f8a32dee",
   "metadata": {},
   "outputs": [
    {
     "name": "stdout",
     "output_type": "stream",
     "text": [
      "['Apartment' 'Bungalow' 'Single-family home' 'Duplex' '#R%$G&867'\n",
      " 'Container Home']\n"
     ]
    }
   ],
   "source": [
    "un = df[\"Property_Type\"].unique()\n",
    "\n",
    "print(un)\n"
   ]
  },
  {
   "cell_type": "code",
   "execution_count": 343,
   "id": "ab522ddf",
   "metadata": {},
   "outputs": [],
   "source": [
    "df[\"Property_Type\"] = df[\"Property_Type\"].replace([\"#R%$G&867\"], \"NA\")\n"
   ]
  },
  {
   "cell_type": "code",
   "execution_count": 344,
   "id": "26c21f86",
   "metadata": {},
   "outputs": [
    {
     "name": "stdout",
     "output_type": "stream",
     "text": [
      "['Apartment' 'Bungalow' 'Single-family home' 'Duplex' 'NA'\n",
      " 'Container Home']\n"
     ]
    }
   ],
   "source": [
    "un = df[\"Property_Type\"].unique()\n",
    "\n",
    "print(un)"
   ]
  },
  {
   "cell_type": "code",
   "execution_count": 345,
   "id": "9837f675",
   "metadata": {},
   "outputs": [],
   "source": [
    "y = df[\"Habitability_score\"]"
   ]
  },
  {
   "cell_type": "code",
   "execution_count": 346,
   "id": "693e6974",
   "metadata": {},
   "outputs": [],
   "source": [
    "x = df.drop([\"Habitability_score\"], axis = \"columns\")"
   ]
  },
  {
   "cell_type": "code",
   "execution_count": 347,
   "id": "3707e6fa",
   "metadata": {},
   "outputs": [
    {
     "name": "stdout",
     "output_type": "stream",
     "text": [
      "<class 'pandas.core.frame.DataFrame'>\n",
      "RangeIndex: 39499 entries, 0 to 39498\n",
      "Data columns (total 14 columns):\n",
      " #   Column                  Non-Null Count  Dtype  \n",
      "---  ------                  --------------  -----  \n",
      " 0   Property_ID             39499 non-null  object \n",
      " 1   Property_Type           39499 non-null  object \n",
      " 2   Property_Area           39499 non-null  int64  \n",
      " 3   Number_of_Windows       37845 non-null  float64\n",
      " 4   Number_of_Doors         39499 non-null  int64  \n",
      " 5   Furnishing              38457 non-null  object \n",
      " 6   Frequency_of_Powercuts  38116 non-null  float64\n",
      " 7   Power_Backup            39499 non-null  object \n",
      " 8   Water_Supply            39499 non-null  object \n",
      " 9   Traffic_Density_Score   39499 non-null  float64\n",
      " 10  Crime_Rate              38712 non-null  object \n",
      " 11  Dust_and_Noise          38280 non-null  object \n",
      " 12  Air_Quality_Index       39499 non-null  int64  \n",
      " 13  Neighborhood_Review     39499 non-null  float64\n",
      "dtypes: float64(4), int64(3), object(7)\n",
      "memory usage: 4.2+ MB\n"
     ]
    }
   ],
   "source": [
    "x.info()"
   ]
  },
  {
   "cell_type": "code",
   "execution_count": 348,
   "id": "d6959df1",
   "metadata": {},
   "outputs": [],
   "source": [
    "x = x.drop([\"Property_ID\"], axis = \"columns\")"
   ]
  },
  {
   "cell_type": "code",
   "execution_count": 349,
   "id": "bafbefcd",
   "metadata": {},
   "outputs": [
    {
     "data": {
      "text/plain": [
       "array(['Apartment', 'Bungalow', 'Single-family home', 'Duplex', 'NA',\n",
       "       'Container Home'], dtype=object)"
      ]
     },
     "execution_count": 349,
     "metadata": {},
     "output_type": "execute_result"
    }
   ],
   "source": [
    "x[\"Property_Type\"].unique()"
   ]
  },
  {
   "cell_type": "code",
   "execution_count": 350,
   "id": "ffcb35ae",
   "metadata": {},
   "outputs": [
    {
     "data": {
      "text/plain": [
       "array(['Semi_Furnished', 'Unfurnished', 'Fully Furnished', nan],\n",
       "      dtype=object)"
      ]
     },
     "execution_count": 350,
     "metadata": {},
     "output_type": "execute_result"
    }
   ],
   "source": [
    "x[\"Furnishing\"].unique()"
   ]
  },
  {
   "cell_type": "code",
   "execution_count": 351,
   "id": "f128faf9",
   "metadata": {},
   "outputs": [
    {
     "data": {
      "text/plain": [
       "Property_Type             False\n",
       "Property_Area             False\n",
       "Number_of_Windows          True\n",
       "Number_of_Doors           False\n",
       "Furnishing                 True\n",
       "Frequency_of_Powercuts     True\n",
       "Power_Backup              False\n",
       "Water_Supply              False\n",
       "Traffic_Density_Score     False\n",
       "Crime_Rate                 True\n",
       "Dust_and_Noise             True\n",
       "Air_Quality_Index         False\n",
       "Neighborhood_Review       False\n",
       "dtype: bool"
      ]
     },
     "execution_count": 351,
     "metadata": {},
     "output_type": "execute_result"
    }
   ],
   "source": [
    "x.iloc[:,:].isnull().any()"
   ]
  },
  {
   "cell_type": "code",
   "execution_count": 352,
   "id": "73ef0e8d",
   "metadata": {},
   "outputs": [
    {
     "data": {
      "text/plain": [
       "Apartment             14596\n",
       "Single-family home    11477\n",
       "Duplex                 5806\n",
       "Bungalow               4238\n",
       "Container Home         2872\n",
       "NA                      510\n",
       "Name: Property_Type, dtype: int64"
      ]
     },
     "execution_count": 352,
     "metadata": {},
     "output_type": "execute_result"
    }
   ],
   "source": [
    "x[\"Property_Type\"].value_counts()"
   ]
  },
  {
   "cell_type": "code",
   "execution_count": 353,
   "id": "b6b3dd7f",
   "metadata": {},
   "outputs": [],
   "source": [
    "from sklearn.preprocessing import LabelEncoder\n",
    "\n",
    "\n",
    "le = LabelEncoder()\n",
    "\n",
    "x[\"Property_Type\"] = le.fit_transform(x[\"Property_Type\"])\n",
    "dum = pd.get_dummies(x[\"Property_Type\"], drop_first=True, prefix = \"PT\")\n",
    "x = pd.concat([x,dum], axis = \"columns\")\n",
    "x = x.drop([\"Property_Type\"], axis = \"columns\")\n",
    "\n",
    "dum = pd.get_dummies(x[\"Number_of_Doors\"], drop_first=True, prefix = \"NOD\")\n",
    "x = pd.concat([x,dum], axis = \"columns\")\n",
    "x = x.drop([\"Number_of_Doors\"], axis = \"columns\")\n",
    "\n",
    "\n",
    "\n",
    "\n",
    "\n",
    "\n",
    "\n"
   ]
  },
  {
   "cell_type": "code",
   "execution_count": 354,
   "id": "2d41eeb7",
   "metadata": {},
   "outputs": [],
   "source": [
    "from sklearn.preprocessing import MinMaxScaler\n",
    "scaler = MinMaxScaler()\n",
    "\n",
    "array = x[\"Traffic_Density_Score\"].values.reshape(-1,1)\n",
    "narray = scaler.fit_transform(array)\n",
    "ndata = pd.DataFrame(narray, columns = [\"nTraffic_Density_Score\"])\n",
    "x = pd.concat([x,ndata], axis = \"columns\")\n",
    "x = x.drop([\"Traffic_Density_Score\"], axis = \"columns\")\n",
    "\n",
    "array = x[\"Air_Quality_Index\"].values.reshape(-1,1)\n",
    "narray = scaler.fit_transform(array)\n",
    "ndata = pd.DataFrame(narray, columns = [\"nAir_Quality_Index\"])\n",
    "x = pd.concat([x,ndata], axis = \"columns\")\n",
    "x = x.drop([\"Air_Quality_Index\"], axis = \"columns\")\n",
    "\n",
    "array = x[\"Neighborhood_Review\"].values.reshape(-1,1)\n",
    "narray = scaler.fit_transform(array)\n",
    "ndata = pd.DataFrame(narray, columns = [\"nNeighborhood_Review\"])\n",
    "x = pd.concat([x,ndata], axis = \"columns\")\n",
    "x = x.drop([\"Neighborhood_Review\"], axis = \"columns\")\n",
    "\n",
    "array = x[\"Property_Area\"].values.reshape(-1,1)\n",
    "narray = scaler.fit_transform(array)\n",
    "ndata = pd.DataFrame(narray, columns = [\"nProperty_Area\"])\n",
    "x = pd.concat([x,ndata], axis = \"columns\")\n",
    "x = x.drop([\"Property_Area\"], axis = \"columns\")\n",
    "\n"
   ]
  },
  {
   "cell_type": "code",
   "execution_count": 355,
   "id": "f8676f96",
   "metadata": {},
   "outputs": [
    {
     "data": {
      "text/plain": [
       "<bound method NDFrame.head of        Number_of_Windows       Furnishing  Frequency_of_Powercuts  \\\n",
       "0                    NaN   Semi_Furnished                     0.0   \n",
       "1                    2.0      Unfurnished                     1.0   \n",
       "2                    4.0  Fully Furnished                     0.0   \n",
       "3                    3.0      Unfurnished                     2.0   \n",
       "4                   14.0  Fully Furnished                     0.0   \n",
       "...                  ...              ...                     ...   \n",
       "39494                3.0              NaN                     0.0   \n",
       "39495                1.0  Fully Furnished                     1.0   \n",
       "39496                6.0      Unfurnished                     0.0   \n",
       "39497                3.0   Semi_Furnished                     0.0   \n",
       "39498                2.0  Fully Furnished                     0.0   \n",
       "\n",
       "      Power_Backup             Water_Supply              Crime_Rate  \\\n",
       "0               No  Once in a day - Morning  Slightly below average   \n",
       "1               No  Once in a day - Evening      Well below average   \n",
       "2               No  Once in a day - Morning  Slightly below average   \n",
       "3              Yes  Once in a day - Morning      Well above average   \n",
       "4               No                 All time      Well below average   \n",
       "...            ...                      ...                     ...   \n",
       "39494           No                 All time  Slightly above average   \n",
       "39495           No                 All time  Slightly above average   \n",
       "39496          Yes         Once in two days      Well below average   \n",
       "39497           No  Once in a day - Morning  Slightly above average   \n",
       "39498           No                 All time      Well below average   \n",
       "\n",
       "      Dust_and_Noise  PT_1  PT_2  PT_3  ...  PT_5  NOD_2  NOD_3  NOD_4  NOD_5  \\\n",
       "0             Medium     0     0     0  ...     0      0      0      0      0   \n",
       "1             Medium     0     0     0  ...     0      1      0      0      0   \n",
       "2             Medium     0     0     0  ...     0      1      0      0      0   \n",
       "3             Medium     0     0     0  ...     0      1      0      0      0   \n",
       "4             Medium     1     0     0  ...     0      0      0      0      0   \n",
       "...              ...   ...   ...   ...  ...   ...    ...    ...    ...    ...   \n",
       "39494         Medium     0     0     0  ...     1      1      0      0      0   \n",
       "39495         Medium     0     0     0  ...     0      0      1      0      0   \n",
       "39496         Medium     1     0     0  ...     0      0      0      0      0   \n",
       "39497            NaN     0     0     0  ...     1      0      0      0      0   \n",
       "39498           High     0     0     0  ...     1      0      0      1      0   \n",
       "\n",
       "       NOD_6  nTraffic_Density_Score  nAir_Quality_Index  \\\n",
       "0          0                0.594349            0.086207   \n",
       "1          0                0.440969            0.091954   \n",
       "2          0                0.751766            0.115900   \n",
       "3          0                0.621594            0.095785   \n",
       "4          1                0.550959            0.111111   \n",
       "...      ...                     ...                 ...   \n",
       "39494      0                0.560040            0.076628   \n",
       "39495      0                0.575177            0.082375   \n",
       "39496      1                0.690212            0.131226   \n",
       "39497      0                0.464178            0.084291   \n",
       "39498      0                0.836529            0.126437   \n",
       "\n",
       "       nNeighborhood_Review  nProperty_Area  \n",
       "0                     0.772        0.000215  \n",
       "1                     0.710        0.022636  \n",
       "2                     0.762        0.022779  \n",
       "3                     0.268        0.028608  \n",
       "4                     0.954        0.076455  \n",
       "...                     ...             ...  \n",
       "39494                 0.712        0.036475  \n",
       "39495                 0.586        0.012337  \n",
       "39496                 0.760        0.131598  \n",
       "39497                 0.650        0.041696  \n",
       "39498                 0.934        0.040373  \n",
       "\n",
       "[39499 rows x 21 columns]>"
      ]
     },
     "execution_count": 355,
     "metadata": {},
     "output_type": "execute_result"
    }
   ],
   "source": [
    "x.head"
   ]
  },
  {
   "cell_type": "code",
   "execution_count": null,
   "id": "a67ab2c3",
   "metadata": {},
   "outputs": [],
   "source": []
  }
 ],
 "metadata": {
  "kernelspec": {
   "display_name": "Python 3 (ipykernel)",
   "language": "python",
   "name": "python3"
  },
  "language_info": {
   "codemirror_mode": {
    "name": "ipython",
    "version": 3
   },
   "file_extension": ".py",
   "mimetype": "text/x-python",
   "name": "python",
   "nbconvert_exporter": "python",
   "pygments_lexer": "ipython3",
   "version": "3.9.12"
  }
 },
 "nbformat": 4,
 "nbformat_minor": 5
}

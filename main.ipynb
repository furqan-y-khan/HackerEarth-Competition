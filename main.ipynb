{
 "cells": [
  {
   "cell_type": "code",
   "execution_count": 460,
   "id": "0f6530db",
   "metadata": {},
   "outputs": [],
   "source": [
    "import pandas as pd\n",
    "import numpy as np"
   ]
  },
  {
   "cell_type": "code",
   "execution_count": 461,
   "id": "f26d311b",
   "metadata": {},
   "outputs": [],
   "source": [
    "df = pd.read_csv(\"train.csv\")"
   ]
  },
  {
   "cell_type": "code",
   "execution_count": 462,
   "id": "ab522ddf",
   "metadata": {},
   "outputs": [],
   "source": [
    "df[\"Property_Type\"] = df[\"Property_Type\"].replace([\"#R%$G&867\"], \"NA\")\n"
   ]
  },
  {
   "cell_type": "code",
   "execution_count": 463,
   "id": "9837f675",
   "metadata": {},
   "outputs": [],
   "source": [
    "y = df[\"Habitability_score\"]"
   ]
  },
  {
   "cell_type": "code",
   "execution_count": 464,
   "id": "693e6974",
   "metadata": {},
   "outputs": [],
   "source": [
    "x = df.drop([\"Habitability_score\"], axis = \"columns\")"
   ]
  },
  {
   "cell_type": "code",
   "execution_count": 465,
   "id": "3707e6fa",
   "metadata": {},
   "outputs": [
    {
     "name": "stdout",
     "output_type": "stream",
     "text": [
      "<class 'pandas.core.frame.DataFrame'>\n",
      "RangeIndex: 39499 entries, 0 to 39498\n",
      "Data columns (total 14 columns):\n",
      " #   Column                  Non-Null Count  Dtype  \n",
      "---  ------                  --------------  -----  \n",
      " 0   Property_ID             39499 non-null  object \n",
      " 1   Property_Type           39499 non-null  object \n",
      " 2   Property_Area           39499 non-null  int64  \n",
      " 3   Number_of_Windows       37845 non-null  float64\n",
      " 4   Number_of_Doors         39499 non-null  int64  \n",
      " 5   Furnishing              38457 non-null  object \n",
      " 6   Frequency_of_Powercuts  38116 non-null  float64\n",
      " 7   Power_Backup            39499 non-null  object \n",
      " 8   Water_Supply            39499 non-null  object \n",
      " 9   Traffic_Density_Score   39499 non-null  float64\n",
      " 10  Crime_Rate              38712 non-null  object \n",
      " 11  Dust_and_Noise          38280 non-null  object \n",
      " 12  Air_Quality_Index       39499 non-null  int64  \n",
      " 13  Neighborhood_Review     39499 non-null  float64\n",
      "dtypes: float64(4), int64(3), object(7)\n",
      "memory usage: 4.2+ MB\n"
     ]
    }
   ],
   "source": [
    "x.info()"
   ]
  },
  {
   "cell_type": "code",
   "execution_count": 466,
   "id": "d6959df1",
   "metadata": {},
   "outputs": [],
   "source": [
    "x = x.drop([\"Property_ID\"], axis = \"columns\")"
   ]
  },
  {
   "cell_type": "code",
   "execution_count": 467,
   "id": "bafbefcd",
   "metadata": {},
   "outputs": [],
   "source": [
    "x.drop(x[x.Water_Supply == \"NOT MENTIONED\"].index, axis = 0, inplace = True)\n",
    "x.drop(x[x.Property_Type == \"NA\"].index, axis = 0, inplace = True)\n",
    "x.drop(x[x.Power_Backup == \"NOT MENTIONED\"].index, axis = 0, inplace = True)\n",
    "x = x.dropna(subset = \"Crime_Rate\")\n",
    "x = x.reset_index()"
   ]
  },
  {
   "cell_type": "code",
   "execution_count": 468,
   "id": "73ef0e8d",
   "metadata": {},
   "outputs": [
    {
     "data": {
      "text/plain": [
       "Apartment             13845\n",
       "Single-family home    10912\n",
       "Duplex                 5536\n",
       "Bungalow               4048\n",
       "Container Home         2744\n",
       "Name: Property_Type, dtype: int64"
      ]
     },
     "execution_count": 468,
     "metadata": {},
     "output_type": "execute_result"
    }
   ],
   "source": [
    "x[\"Property_Type\"].value_counts()"
   ]
  },
  {
   "cell_type": "code",
   "execution_count": 469,
   "id": "b6b3dd7f",
   "metadata": {},
   "outputs": [],
   "source": [
    "from sklearn.preprocessing import LabelEncoder\n",
    "\n",
    "\n",
    "le = LabelEncoder()\n",
    "\n",
    "x[\"Property_Type\"] = le.fit_transform(x[\"Property_Type\"])\n",
    "dum = pd.get_dummies(x[\"Property_Type\"], drop_first=True, prefix = \"PT\")\n",
    "x = pd.concat([x,dum], axis = \"columns\")\n",
    "x = x.drop([\"Property_Type\"], axis = \"columns\")\n",
    "\n",
    "dum = pd.get_dummies(x[\"Number_of_Doors\"], drop_first=True, prefix = \"NOD\")\n",
    "x = pd.concat([x,dum], axis = \"columns\")\n",
    "x = x.drop([\"Number_of_Doors\"], axis = \"columns\")\n",
    "\n",
    "x[\"Power_Backup\"] = le.fit_transform(x[\"Power_Backup\"])\n",
    "dum = pd.get_dummies(x[\"Power_Backup\"], drop_first=True, prefix = \"PB\")\n",
    "x = pd.concat([x,dum], axis = \"columns\")\n",
    "x = x.drop([\"Power_Backup\"], axis = \"columns\")\n",
    "\n",
    "x[\"Water_Supply\"] = le.fit_transform(x[\"Water_Supply\"])\n",
    "dum = pd.get_dummies(x[\"Water_Supply\"], drop_first=True, prefix = \"WS\")\n",
    "x = pd.concat([x,dum], axis = \"columns\")\n",
    "x = x.drop([\"Water_Supply\"], axis = \"columns\")\n",
    "\n",
    "x[\"Crime_Rate\"] = le.fit_transform(x[\"Crime_Rate\"])\n",
    "dum = pd.get_dummies(x[\"Crime_Rate\"], drop_first=True, prefix = \"CR\")\n",
    "x = pd.concat([x,dum], axis = \"columns\")\n",
    "x = x.drop([\"Crime_Rate\"], axis = \"columns\")\n",
    "\n",
    "\n",
    "\n",
    "\n",
    "\n",
    "\n"
   ]
  },
  {
   "cell_type": "code",
   "execution_count": 470,
   "id": "2d41eeb7",
   "metadata": {},
   "outputs": [],
   "source": [
    "from sklearn.preprocessing import MinMaxScaler\n",
    "scaler = MinMaxScaler()\n",
    "\n",
    "array = x[\"Traffic_Density_Score\"].values.reshape(-1,1)\n",
    "narray = scaler.fit_transform(array)\n",
    "ndata = pd.DataFrame(narray, columns = [\"nTraffic_Density_Score\"])\n",
    "x = pd.concat([x,ndata], axis = \"columns\")\n",
    "x = x.drop([\"Traffic_Density_Score\"], axis = \"columns\")\n",
    "\n",
    "array = x[\"Air_Quality_Index\"].values.reshape(-1,1)\n",
    "narray = scaler.fit_transform(array)\n",
    "ndata = pd.DataFrame(narray, columns = [\"nAir_Quality_Index\"])\n",
    "x = pd.concat([x,ndata], axis = \"columns\")\n",
    "x = x.drop([\"Air_Quality_Index\"], axis = \"columns\")\n",
    "\n",
    "array = x[\"Neighborhood_Review\"].values.reshape(-1,1)\n",
    "narray = scaler.fit_transform(array)\n",
    "ndata = pd.DataFrame(narray, columns = [\"nNeighborhood_Review\"])\n",
    "x = pd.concat([x,ndata], axis = \"columns\")\n",
    "x = x.drop([\"Neighborhood_Review\"], axis = \"columns\")\n",
    "\n",
    "array = x[\"Property_Area\"].values.reshape(-1,1)\n",
    "narray = scaler.fit_transform(array)\n",
    "ndata = pd.DataFrame(narray, columns = [\"nProperty_Area\"])\n",
    "x = pd.concat([x,ndata], axis = \"columns\")\n",
    "x = x.drop([\"Property_Area\"], axis = \"columns\")\n",
    "\n"
   ]
  },
  {
   "cell_type": "code",
   "execution_count": 471,
   "id": "f8676f96",
   "metadata": {},
   "outputs": [
    {
     "name": "stdout",
     "output_type": "stream",
     "text": [
      "<class 'pandas.core.frame.DataFrame'>\n",
      "RangeIndex: 37085 entries, 0 to 37084\n",
      "Data columns (total 25 columns):\n",
      " #   Column                  Non-Null Count  Dtype  \n",
      "---  ------                  --------------  -----  \n",
      " 0   index                   37085 non-null  int64  \n",
      " 1   Number_of_Windows       35532 non-null  float64\n",
      " 2   Furnishing              36122 non-null  object \n",
      " 3   Frequency_of_Powercuts  35777 non-null  float64\n",
      " 4   Dust_and_Noise          35934 non-null  object \n",
      " 5   PT_1                    37085 non-null  uint8  \n",
      " 6   PT_2                    37085 non-null  uint8  \n",
      " 7   PT_3                    37085 non-null  uint8  \n",
      " 8   PT_4                    37085 non-null  uint8  \n",
      " 9   NOD_2                   37085 non-null  uint8  \n",
      " 10  NOD_3                   37085 non-null  uint8  \n",
      " 11  NOD_4                   37085 non-null  uint8  \n",
      " 12  NOD_5                   37085 non-null  uint8  \n",
      " 13  NOD_6                   37085 non-null  uint8  \n",
      " 14  PB_1                    37085 non-null  uint8  \n",
      " 15  WS_1                    37085 non-null  uint8  \n",
      " 16  WS_2                    37085 non-null  uint8  \n",
      " 17  WS_3                    37085 non-null  uint8  \n",
      " 18  CR_1                    37085 non-null  uint8  \n",
      " 19  CR_2                    37085 non-null  uint8  \n",
      " 20  CR_3                    37085 non-null  uint8  \n",
      " 21  nTraffic_Density_Score  37085 non-null  float64\n",
      " 22  nAir_Quality_Index      37085 non-null  float64\n",
      " 23  nNeighborhood_Review    37085 non-null  float64\n",
      " 24  nProperty_Area          37085 non-null  float64\n",
      "dtypes: float64(6), int64(1), object(2), uint8(16)\n",
      "memory usage: 3.1+ MB\n"
     ]
    }
   ],
   "source": [
    "x.info()"
   ]
  },
  {
   "cell_type": "code",
   "execution_count": null,
   "id": "a67ab2c3",
   "metadata": {},
   "outputs": [],
   "source": []
  }
 ],
 "metadata": {
  "kernelspec": {
   "display_name": "Python 3 (ipykernel)",
   "language": "python",
   "name": "python3"
  },
  "language_info": {
   "codemirror_mode": {
    "name": "ipython",
    "version": 3
   },
   "file_extension": ".py",
   "mimetype": "text/x-python",
   "name": "python",
   "nbconvert_exporter": "python",
   "pygments_lexer": "ipython3",
   "version": "3.9.12"
  }
 },
 "nbformat": 4,
 "nbformat_minor": 5
}

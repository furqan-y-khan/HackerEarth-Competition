{
 "cells": [
  {
   "cell_type": "code",
   "execution_count": 359,
   "id": "0f6530db",
   "metadata": {},
   "outputs": [],
   "source": [
    "import pandas as pd\n",
    "import numpy as np"
   ]
  },
  {
   "cell_type": "code",
   "execution_count": 360,
   "id": "f26d311b",
   "metadata": {},
   "outputs": [],
   "source": [
    "df = pd.read_csv(\"train.csv\")"
   ]
  },
  {
   "cell_type": "code",
   "execution_count": 361,
   "id": "ab522ddf",
   "metadata": {},
   "outputs": [],
   "source": [
    "df[\"Property_Type\"] = df[\"Property_Type\"].replace([\"#R%$G&867\"], \"NA\")\n"
   ]
  },
  {
   "cell_type": "code",
   "execution_count": 362,
   "id": "9837f675",
   "metadata": {},
   "outputs": [],
   "source": [
    "x = df"
   ]
  },
  {
   "cell_type": "code",
   "execution_count": null,
   "id": "693e6974",
   "metadata": {},
   "outputs": [],
   "source": []
  },
  {
   "cell_type": "code",
   "execution_count": 363,
   "id": "3707e6fa",
   "metadata": {
    "scrolled": true
   },
   "outputs": [
    {
     "name": "stdout",
     "output_type": "stream",
     "text": [
      "<class 'pandas.core.frame.DataFrame'>\n",
      "RangeIndex: 39499 entries, 0 to 39498\n",
      "Data columns (total 15 columns):\n",
      " #   Column                  Non-Null Count  Dtype  \n",
      "---  ------                  --------------  -----  \n",
      " 0   Property_ID             39499 non-null  object \n",
      " 1   Property_Type           39499 non-null  object \n",
      " 2   Property_Area           39499 non-null  int64  \n",
      " 3   Number_of_Windows       37845 non-null  float64\n",
      " 4   Number_of_Doors         39499 non-null  int64  \n",
      " 5   Furnishing              38457 non-null  object \n",
      " 6   Frequency_of_Powercuts  38116 non-null  float64\n",
      " 7   Power_Backup            39499 non-null  object \n",
      " 8   Water_Supply            39499 non-null  object \n",
      " 9   Traffic_Density_Score   39499 non-null  float64\n",
      " 10  Crime_Rate              38712 non-null  object \n",
      " 11  Dust_and_Noise          38280 non-null  object \n",
      " 12  Air_Quality_Index       39499 non-null  int64  \n",
      " 13  Neighborhood_Review     39499 non-null  float64\n",
      " 14  Habitability_score      39499 non-null  float64\n",
      "dtypes: float64(5), int64(3), object(7)\n",
      "memory usage: 4.5+ MB\n"
     ]
    }
   ],
   "source": [
    "x.info()"
   ]
  },
  {
   "cell_type": "code",
   "execution_count": 364,
   "id": "d6959df1",
   "metadata": {},
   "outputs": [],
   "source": [
    "x = x.drop([\"Property_ID\"], axis = \"columns\")"
   ]
  },
  {
   "cell_type": "code",
   "execution_count": 365,
   "id": "bafbefcd",
   "metadata": {},
   "outputs": [],
   "source": [
    "x.drop(x[x.Water_Supply == \"NOT MENTIONED\"].index, axis = 0, inplace = True)\n",
    "x.drop(x[x.Property_Type == \"NA\"].index, axis = 0, inplace = True)\n",
    "x.drop(x[x.Power_Backup == \"NOT MENTIONED\"].index, axis = 0, inplace = True)\n",
    "x = x.dropna(subset = \"Crime_Rate\")\n",
    "x = x.dropna(subset = \"Number_of_Windows\")\n",
    "x = x.dropna(subset = \"Furnishing\")\n",
    "\n",
    "\n",
    "\n",
    "x = x.reset_index()"
   ]
  },
  {
   "cell_type": "code",
   "execution_count": 366,
   "id": "73ef0e8d",
   "metadata": {},
   "outputs": [
    {
     "data": {
      "text/plain": [
       "Apartment             12905\n",
       "Single-family home    10200\n",
       "Duplex                 5142\n",
       "Bungalow               3791\n",
       "Container Home         2567\n",
       "Name: Property_Type, dtype: int64"
      ]
     },
     "execution_count": 366,
     "metadata": {},
     "output_type": "execute_result"
    }
   ],
   "source": [
    "x[\"Property_Type\"].value_counts()"
   ]
  },
  {
   "cell_type": "code",
   "execution_count": 367,
   "id": "b6b3dd7f",
   "metadata": {},
   "outputs": [],
   "source": [
    "from sklearn.preprocessing import LabelEncoder\n",
    "\n",
    "\n",
    "le = LabelEncoder()\n",
    "\n",
    "x[\"Property_Type\"] = le.fit_transform(x[\"Property_Type\"])\n",
    "dum = pd.get_dummies(x[\"Property_Type\"], drop_first=True, prefix = \"PT\")\n",
    "x = pd.concat([x,dum], axis = \"columns\")\n",
    "x = x.drop([\"Property_Type\"], axis = \"columns\")\n",
    "\n",
    "dum = pd.get_dummies(x[\"Number_of_Doors\"], drop_first=True, prefix = \"NOD\")\n",
    "x = pd.concat([x,dum], axis = \"columns\")\n",
    "x = x.drop([\"Number_of_Doors\"], axis = \"columns\")\n",
    "\n",
    "\n",
    "\n",
    "x[\"Power_Backup\"] = le.fit_transform(x[\"Power_Backup\"])\n",
    "dum = pd.get_dummies(x[\"Power_Backup\"], drop_first=True, prefix = \"PB\")\n",
    "x = pd.concat([x,dum], axis = \"columns\")\n",
    "x = x.drop([\"Power_Backup\"], axis = \"columns\")\n",
    "\n",
    "x[\"Water_Supply\"] = le.fit_transform(x[\"Water_Supply\"])\n",
    "dum = pd.get_dummies(x[\"Water_Supply\"], drop_first=True, prefix = \"WS\")\n",
    "x = pd.concat([x,dum], axis = \"columns\")\n",
    "x = x.drop([\"Water_Supply\"], axis = \"columns\")\n",
    "\n",
    "x[\"Crime_Rate\"] = le.fit_transform(x[\"Crime_Rate\"])\n",
    "dum = pd.get_dummies(x[\"Crime_Rate\"], drop_first=True, prefix = \"CR\")\n",
    "x = pd.concat([x,dum], axis = \"columns\")\n",
    "x = x.drop([\"Crime_Rate\"], axis = \"columns\")\n",
    "\n",
    "x[\"Furnishing\"] = le.fit_transform(x[\"Furnishing\"])\n",
    "dum = pd.get_dummies(x[\"Furnishing\"], drop_first=True, prefix = \"F\")\n",
    "x = pd.concat([x,dum], axis = \"columns\")\n",
    "x = x.drop([\"Furnishing\"], axis = \"columns\")"
   ]
  },
  {
   "cell_type": "code",
   "execution_count": 368,
   "id": "2d41eeb7",
   "metadata": {},
   "outputs": [],
   "source": [
    "from sklearn.preprocessing import MinMaxScaler\n",
    "scaler = MinMaxScaler()\n",
    "\n",
    "array = x[\"Traffic_Density_Score\"].values.reshape(-1,1)\n",
    "narray = scaler.fit_transform(array)\n",
    "ndata = pd.DataFrame(narray, columns = [\"nTraffic_Density_Score\"])\n",
    "x = pd.concat([x,ndata], axis = \"columns\")\n",
    "x = x.drop([\"Traffic_Density_Score\"], axis = \"columns\")\n",
    "\n",
    "array = x[\"Air_Quality_Index\"].values.reshape(-1,1)\n",
    "narray = scaler.fit_transform(array)\n",
    "ndata = pd.DataFrame(narray, columns = [\"nAir_Quality_Index\"])\n",
    "x = pd.concat([x,ndata], axis = \"columns\")\n",
    "x = x.drop([\"Air_Quality_Index\"], axis = \"columns\")\n",
    "\n",
    "array = x[\"Neighborhood_Review\"].values.reshape(-1,1)\n",
    "narray = scaler.fit_transform(array)\n",
    "ndata = pd.DataFrame(narray, columns = [\"nNeighborhood_Review\"])\n",
    "x = pd.concat([x,ndata], axis = \"columns\")\n",
    "x = x.drop([\"Neighborhood_Review\"], axis = \"columns\")\n",
    "\n",
    "array = x[\"Property_Area\"].values.reshape(-1,1)\n",
    "narray = scaler.fit_transform(array)\n",
    "ndata = pd.DataFrame(narray, columns = [\"nProperty_Area\"])\n",
    "x = pd.concat([x,ndata], axis = \"columns\")\n",
    "x = x.drop([\"Property_Area\"], axis = \"columns\")\n",
    "\n",
    "array = x[\"Number_of_Windows\"].values.reshape(-1,1)\n",
    "narray = scaler.fit_transform(array)\n",
    "ndata = pd.DataFrame(narray, columns = [\"nNumber_of_Windows\"])\n",
    "x = pd.concat([x,ndata], axis = \"columns\")\n",
    "x = x.drop([\"Number_of_Windows\"], axis = \"columns\")"
   ]
  },
  {
   "cell_type": "code",
   "execution_count": 369,
   "id": "98f0772b",
   "metadata": {
    "scrolled": true
   },
   "outputs": [],
   "source": [
    "x[\"Frequency_of_Powercuts\"] = x[\"Frequency_of_Powercuts\"].fillna(0)\n",
    "x[\"Dust_and_Noise\"] = x[\"Dust_and_Noise\"].fillna(\"Medium\")"
   ]
  },
  {
   "cell_type": "code",
   "execution_count": 370,
   "id": "37c634aa",
   "metadata": {},
   "outputs": [],
   "source": [
    "x[\"Dust_and_Noise\"] = le.fit_transform(x[\"Dust_and_Noise\"])\n",
    "dum = pd.get_dummies(x[\"Dust_and_Noise\"], drop_first=True, prefix = \"DN\")\n",
    "x = pd.concat([x,dum], axis = \"columns\")\n",
    "x = x.drop([\"Dust_and_Noise\"], axis = \"columns\")\n",
    "\n",
    "dum = pd.get_dummies(x[\"Frequency_of_Powercuts\"], drop_first=True, prefix = \"FOP\")\n",
    "x = pd.concat([x,dum], axis = \"columns\")\n",
    "x = x.drop([\"Frequency_of_Powercuts\"], axis = \"columns\")\n"
   ]
  },
  {
   "cell_type": "code",
   "execution_count": 371,
   "id": "df488cd1",
   "metadata": {},
   "outputs": [
    {
     "name": "stdout",
     "output_type": "stream",
     "text": [
      "<class 'pandas.core.frame.DataFrame'>\n",
      "RangeIndex: 34605 entries, 0 to 34604\n",
      "Data columns (total 30 columns):\n",
      " #   Column                  Non-Null Count  Dtype  \n",
      "---  ------                  --------------  -----  \n",
      " 0   index                   34605 non-null  int64  \n",
      " 1   Habitability_score      34605 non-null  float64\n",
      " 2   PT_1                    34605 non-null  uint8  \n",
      " 3   PT_2                    34605 non-null  uint8  \n",
      " 4   PT_3                    34605 non-null  uint8  \n",
      " 5   PT_4                    34605 non-null  uint8  \n",
      " 6   NOD_2                   34605 non-null  uint8  \n",
      " 7   NOD_3                   34605 non-null  uint8  \n",
      " 8   NOD_4                   34605 non-null  uint8  \n",
      " 9   NOD_5                   34605 non-null  uint8  \n",
      " 10  NOD_6                   34605 non-null  uint8  \n",
      " 11  PB_1                    34605 non-null  uint8  \n",
      " 12  WS_1                    34605 non-null  uint8  \n",
      " 13  WS_2                    34605 non-null  uint8  \n",
      " 14  WS_3                    34605 non-null  uint8  \n",
      " 15  CR_1                    34605 non-null  uint8  \n",
      " 16  CR_2                    34605 non-null  uint8  \n",
      " 17  CR_3                    34605 non-null  uint8  \n",
      " 18  F_1                     34605 non-null  uint8  \n",
      " 19  F_2                     34605 non-null  uint8  \n",
      " 20  nTraffic_Density_Score  34605 non-null  float64\n",
      " 21  nAir_Quality_Index      34605 non-null  float64\n",
      " 22  nNeighborhood_Review    34605 non-null  float64\n",
      " 23  nProperty_Area          34605 non-null  float64\n",
      " 24  nNumber_of_Windows      34605 non-null  float64\n",
      " 25  DN_1                    34605 non-null  uint8  \n",
      " 26  DN_2                    34605 non-null  uint8  \n",
      " 27  FOP_1.0                 34605 non-null  uint8  \n",
      " 28  FOP_2.0                 34605 non-null  uint8  \n",
      " 29  FOP_3.0                 34605 non-null  uint8  \n",
      "dtypes: float64(6), int64(1), uint8(23)\n",
      "memory usage: 2.6 MB\n"
     ]
    }
   ],
   "source": [
    "x.info()"
   ]
  },
  {
   "cell_type": "code",
   "execution_count": 372,
   "id": "43f45071",
   "metadata": {},
   "outputs": [
    {
     "data": {
      "text/html": [
       "<div>\n",
       "<style scoped>\n",
       "    .dataframe tbody tr th:only-of-type {\n",
       "        vertical-align: middle;\n",
       "    }\n",
       "\n",
       "    .dataframe tbody tr th {\n",
       "        vertical-align: top;\n",
       "    }\n",
       "\n",
       "    .dataframe thead th {\n",
       "        text-align: right;\n",
       "    }\n",
       "</style>\n",
       "<table border=\"1\" class=\"dataframe\">\n",
       "  <thead>\n",
       "    <tr style=\"text-align: right;\">\n",
       "      <th></th>\n",
       "      <th>index</th>\n",
       "      <th>Habitability_score</th>\n",
       "      <th>PT_1</th>\n",
       "      <th>PT_2</th>\n",
       "      <th>PT_3</th>\n",
       "      <th>PT_4</th>\n",
       "      <th>NOD_2</th>\n",
       "      <th>NOD_3</th>\n",
       "      <th>NOD_4</th>\n",
       "      <th>NOD_5</th>\n",
       "      <th>...</th>\n",
       "      <th>nTraffic_Density_Score</th>\n",
       "      <th>nAir_Quality_Index</th>\n",
       "      <th>nNeighborhood_Review</th>\n",
       "      <th>nProperty_Area</th>\n",
       "      <th>nNumber_of_Windows</th>\n",
       "      <th>DN_1</th>\n",
       "      <th>DN_2</th>\n",
       "      <th>FOP_1.0</th>\n",
       "      <th>FOP_2.0</th>\n",
       "      <th>FOP_3.0</th>\n",
       "    </tr>\n",
       "  </thead>\n",
       "  <tbody>\n",
       "    <tr>\n",
       "      <th>0</th>\n",
       "      <td>1</td>\n",
       "      <td>71.20</td>\n",
       "      <td>0</td>\n",
       "      <td>0</td>\n",
       "      <td>0</td>\n",
       "      <td>0</td>\n",
       "      <td>1</td>\n",
       "      <td>0</td>\n",
       "      <td>0</td>\n",
       "      <td>0</td>\n",
       "      <td>...</td>\n",
       "      <td>0.440969</td>\n",
       "      <td>0.091954</td>\n",
       "      <td>0.710</td>\n",
       "      <td>0.022642</td>\n",
       "      <td>0.133333</td>\n",
       "      <td>0</td>\n",
       "      <td>1</td>\n",
       "      <td>1</td>\n",
       "      <td>0</td>\n",
       "      <td>0</td>\n",
       "    </tr>\n",
       "    <tr>\n",
       "      <th>1</th>\n",
       "      <td>2</td>\n",
       "      <td>71.39</td>\n",
       "      <td>0</td>\n",
       "      <td>0</td>\n",
       "      <td>0</td>\n",
       "      <td>0</td>\n",
       "      <td>1</td>\n",
       "      <td>0</td>\n",
       "      <td>0</td>\n",
       "      <td>0</td>\n",
       "      <td>...</td>\n",
       "      <td>0.751766</td>\n",
       "      <td>0.115900</td>\n",
       "      <td>0.762</td>\n",
       "      <td>0.022785</td>\n",
       "      <td>0.266667</td>\n",
       "      <td>0</td>\n",
       "      <td>1</td>\n",
       "      <td>0</td>\n",
       "      <td>0</td>\n",
       "      <td>0</td>\n",
       "    </tr>\n",
       "    <tr>\n",
       "      <th>2</th>\n",
       "      <td>3</td>\n",
       "      <td>31.46</td>\n",
       "      <td>0</td>\n",
       "      <td>0</td>\n",
       "      <td>0</td>\n",
       "      <td>0</td>\n",
       "      <td>1</td>\n",
       "      <td>0</td>\n",
       "      <td>0</td>\n",
       "      <td>0</td>\n",
       "      <td>...</td>\n",
       "      <td>0.621594</td>\n",
       "      <td>0.095785</td>\n",
       "      <td>0.268</td>\n",
       "      <td>0.028615</td>\n",
       "      <td>0.200000</td>\n",
       "      <td>0</td>\n",
       "      <td>1</td>\n",
       "      <td>0</td>\n",
       "      <td>1</td>\n",
       "      <td>0</td>\n",
       "    </tr>\n",
       "    <tr>\n",
       "      <th>3</th>\n",
       "      <td>4</td>\n",
       "      <td>93.70</td>\n",
       "      <td>1</td>\n",
       "      <td>0</td>\n",
       "      <td>0</td>\n",
       "      <td>0</td>\n",
       "      <td>0</td>\n",
       "      <td>0</td>\n",
       "      <td>0</td>\n",
       "      <td>0</td>\n",
       "      <td>...</td>\n",
       "      <td>0.550959</td>\n",
       "      <td>0.111111</td>\n",
       "      <td>0.954</td>\n",
       "      <td>0.076475</td>\n",
       "      <td>0.933333</td>\n",
       "      <td>0</td>\n",
       "      <td>1</td>\n",
       "      <td>0</td>\n",
       "      <td>0</td>\n",
       "      <td>0</td>\n",
       "    </tr>\n",
       "    <tr>\n",
       "      <th>4</th>\n",
       "      <td>5</td>\n",
       "      <td>82.94</td>\n",
       "      <td>0</td>\n",
       "      <td>0</td>\n",
       "      <td>0</td>\n",
       "      <td>1</td>\n",
       "      <td>0</td>\n",
       "      <td>1</td>\n",
       "      <td>0</td>\n",
       "      <td>0</td>\n",
       "      <td>...</td>\n",
       "      <td>0.574168</td>\n",
       "      <td>0.087165</td>\n",
       "      <td>0.898</td>\n",
       "      <td>0.038810</td>\n",
       "      <td>0.200000</td>\n",
       "      <td>0</td>\n",
       "      <td>1</td>\n",
       "      <td>0</td>\n",
       "      <td>0</td>\n",
       "      <td>0</td>\n",
       "    </tr>\n",
       "  </tbody>\n",
       "</table>\n",
       "<p>5 rows × 30 columns</p>\n",
       "</div>"
      ],
      "text/plain": [
       "   index  Habitability_score  PT_1  PT_2  PT_3  PT_4  NOD_2  NOD_3  NOD_4  \\\n",
       "0      1               71.20     0     0     0     0      1      0      0   \n",
       "1      2               71.39     0     0     0     0      1      0      0   \n",
       "2      3               31.46     0     0     0     0      1      0      0   \n",
       "3      4               93.70     1     0     0     0      0      0      0   \n",
       "4      5               82.94     0     0     0     1      0      1      0   \n",
       "\n",
       "   NOD_5  ...  nTraffic_Density_Score  nAir_Quality_Index  \\\n",
       "0      0  ...                0.440969            0.091954   \n",
       "1      0  ...                0.751766            0.115900   \n",
       "2      0  ...                0.621594            0.095785   \n",
       "3      0  ...                0.550959            0.111111   \n",
       "4      0  ...                0.574168            0.087165   \n",
       "\n",
       "   nNeighborhood_Review  nProperty_Area  nNumber_of_Windows  DN_1  DN_2  \\\n",
       "0                 0.710        0.022642            0.133333     0     1   \n",
       "1                 0.762        0.022785            0.266667     0     1   \n",
       "2                 0.268        0.028615            0.200000     0     1   \n",
       "3                 0.954        0.076475            0.933333     0     1   \n",
       "4                 0.898        0.038810            0.200000     0     1   \n",
       "\n",
       "   FOP_1.0  FOP_2.0  FOP_3.0  \n",
       "0        1        0        0  \n",
       "1        0        0        0  \n",
       "2        0        1        0  \n",
       "3        0        0        0  \n",
       "4        0        0        0  \n",
       "\n",
       "[5 rows x 30 columns]"
      ]
     },
     "execution_count": 372,
     "metadata": {},
     "output_type": "execute_result"
    }
   ],
   "source": [
    "x.head()"
   ]
  },
  {
   "cell_type": "code",
   "execution_count": 373,
   "id": "9db06d6c",
   "metadata": {},
   "outputs": [],
   "source": [
    "y = x[\"Habitability_score\"]\n",
    "x = x.drop([\"Habitability_score\"], axis = \"columns\")"
   ]
  },
  {
   "cell_type": "code",
   "execution_count": 374,
   "id": "4934dc04",
   "metadata": {},
   "outputs": [
    {
     "data": {
      "text/plain": [
       "LinearRegression()"
      ]
     },
     "execution_count": 374,
     "metadata": {},
     "output_type": "execute_result"
    }
   ],
   "source": [
    "from sklearn.model_selection import train_test_split\n",
    "x_train, x_test, y_train, y_test = train_test_split(x, y, test_size=0.1)\n",
    "\n",
    "from sklearn.linear_model import LinearRegression\n",
    "model = LinearRegression()\n",
    "model.fit(x_train, y_train)"
   ]
  },
  {
   "cell_type": "code",
   "execution_count": 375,
   "id": "679790aa",
   "metadata": {},
   "outputs": [
    {
     "data": {
      "text/plain": [
       "0.5945463675749739"
      ]
     },
     "execution_count": 375,
     "metadata": {},
     "output_type": "execute_result"
    }
   ],
   "source": [
    "model.score(x_test, y_test)"
   ]
  },
  {
   "cell_type": "code",
   "execution_count": null,
   "id": "7eef8c7e",
   "metadata": {},
   "outputs": [],
   "source": []
  },
  {
   "cell_type": "code",
   "execution_count": null,
   "id": "f5dc3cf0",
   "metadata": {},
   "outputs": [],
   "source": []
  }
 ],
 "metadata": {
  "kernelspec": {
   "display_name": "Python 3 (ipykernel)",
   "language": "python",
   "name": "python3"
  },
  "language_info": {
   "codemirror_mode": {
    "name": "ipython",
    "version": 3
   },
   "file_extension": ".py",
   "mimetype": "text/x-python",
   "name": "python",
   "nbconvert_exporter": "python",
   "pygments_lexer": "ipython3",
   "version": "3.9.12"
  }
 },
 "nbformat": 4,
 "nbformat_minor": 5
}

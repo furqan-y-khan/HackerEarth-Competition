{
 "cells": [
  {
   "cell_type": "code",
   "execution_count": 44,
   "id": "0f6530db",
   "metadata": {},
   "outputs": [],
   "source": [
    "import pandas as pd\n",
    "import numpy as np"
   ]
  },
  {
   "cell_type": "code",
   "execution_count": 45,
   "id": "f26d311b",
   "metadata": {},
   "outputs": [],
   "source": [
    "df = pd.read_csv(\"train.csv\")"
   ]
  },
  {
   "cell_type": "code",
   "execution_count": 46,
   "id": "d0c61bb3",
   "metadata": {},
   "outputs": [
    {
     "data": {
      "text/plain": [
       "<bound method NDFrame.head of       Property_ID       Property_Type  Property_Area  Number_of_Windows  \\\n",
       "0          0x21e3           Apartment            106                NaN   \n",
       "1          0x68d4           Apartment            733                2.0   \n",
       "2          0x7d81           Apartment            737                4.0   \n",
       "3          0x7a57           Apartment            900                3.0   \n",
       "4          0x9409            Bungalow           2238               14.0   \n",
       "...           ...                 ...            ...                ...   \n",
       "39494      0x6e26  Single-family home           1120                3.0   \n",
       "39495      0xa013           Apartment            445                1.0   \n",
       "39496      0x9721            Bungalow           3780                6.0   \n",
       "39497      0x7e25  Single-family home           1266                3.0   \n",
       "39498      0x8cb4  Single-family home           1229                2.0   \n",
       "\n",
       "       Number_of_Doors       Furnishing  Frequency_of_Powercuts Power_Backup  \\\n",
       "0                    1   Semi_Furnished                     0.0           No   \n",
       "1                    2      Unfurnished                     1.0           No   \n",
       "2                    2  Fully Furnished                     0.0           No   \n",
       "3                    2      Unfurnished                     2.0          Yes   \n",
       "4                    6  Fully Furnished                     0.0           No   \n",
       "...                ...              ...                     ...          ...   \n",
       "39494                2              NaN                     0.0           No   \n",
       "39495                3  Fully Furnished                     1.0           No   \n",
       "39496                6      Unfurnished                     0.0          Yes   \n",
       "39497                1   Semi_Furnished                     0.0           No   \n",
       "39498                4  Fully Furnished                     0.0           No   \n",
       "\n",
       "                  Water_Supply  Traffic_Density_Score              Crime_Rate  \\\n",
       "0      Once in a day - Morning                   5.89  Slightly below average   \n",
       "1      Once in a day - Evening                   4.37      Well below average   \n",
       "2      Once in a day - Morning                   7.45  Slightly below average   \n",
       "3      Once in a day - Morning                   6.16      Well above average   \n",
       "4                     All time                   5.46      Well below average   \n",
       "...                        ...                    ...                     ...   \n",
       "39494                 All time                   5.55  Slightly above average   \n",
       "39495                 All time                   5.70  Slightly above average   \n",
       "39496         Once in two days                   6.84      Well below average   \n",
       "39497  Once in a day - Morning                   4.60  Slightly above average   \n",
       "39498                 All time                   8.29      Well below average   \n",
       "\n",
       "      Dust_and_Noise  Air_Quality_Index  Neighborhood_Review  \\\n",
       "0             Medium               90.0                 3.86   \n",
       "1             Medium               96.0                 3.55   \n",
       "2             Medium              121.0                 3.81   \n",
       "3             Medium              100.0                 1.34   \n",
       "4             Medium              116.0                 4.77   \n",
       "...              ...                ...                  ...   \n",
       "39494         Medium               80.0                 3.56   \n",
       "39495         Medium               86.0                 2.93   \n",
       "39496         Medium              137.0                 3.80   \n",
       "39497            NaN               88.0                 3.25   \n",
       "39498           High              132.0                 4.67   \n",
       "\n",
       "       Habitability_score  \n",
       "0                   71.98  \n",
       "1                   71.20  \n",
       "2                   71.39  \n",
       "3                   31.46  \n",
       "4                   93.70  \n",
       "...                   ...  \n",
       "39494               73.43  \n",
       "39495               79.91  \n",
       "39496               81.44  \n",
       "39497               71.33  \n",
       "39498               83.25  \n",
       "\n",
       "[39499 rows x 15 columns]>"
      ]
     },
     "execution_count": 46,
     "metadata": {},
     "output_type": "execute_result"
    }
   ],
   "source": [
    "df.head\n"
   ]
  },
  {
   "cell_type": "code",
   "execution_count": 47,
   "id": "f8a32dee",
   "metadata": {},
   "outputs": [
    {
     "name": "stdout",
     "output_type": "stream",
     "text": [
      "['Apartment' 'Bungalow' 'Single-family home' 'Duplex' '#R%$G&867'\n",
      " 'Container Home']\n"
     ]
    }
   ],
   "source": [
    "un = df[\"Property_Type\"].unique()\n",
    "\n",
    "print(un)\n"
   ]
  },
  {
   "cell_type": "code",
   "execution_count": 48,
   "id": "a402c74b",
   "metadata": {},
   "outputs": [],
   "source": [
    "df[\"Property_Type\"] = df[\"Property_Type\"].replace(\"##R%$G&867\",\"NA\")"
   ]
  },
  {
   "cell_type": "code",
   "execution_count": 49,
   "id": "3912a65e",
   "metadata": {},
   "outputs": [
    {
     "name": "stdout",
     "output_type": "stream",
     "text": [
      "['Apartment' 'Bungalow' 'Single-family home' 'Duplex' '#R%$G&867'\n",
      " 'Container Home']\n"
     ]
    }
   ],
   "source": [
    "un = df[\"Property_Type\"].unique()\n",
    "\n",
    "print(un)\n"
   ]
  },
  {
   "cell_type": "code",
   "execution_count": 50,
   "id": "ab522ddf",
   "metadata": {},
   "outputs": [],
   "source": [
    "df[\"Property_Type\"] = df[\"Property_Type\"].replace([\"#R%$G&867\"], \"NA\")\n"
   ]
  },
  {
   "cell_type": "code",
   "execution_count": 51,
   "id": "26c21f86",
   "metadata": {},
   "outputs": [
    {
     "name": "stdout",
     "output_type": "stream",
     "text": [
      "['Apartment' 'Bungalow' 'Single-family home' 'Duplex' 'NA'\n",
      " 'Container Home']\n"
     ]
    }
   ],
   "source": [
    "un = df[\"Property_Type\"].unique()\n",
    "\n",
    "print(un)"
   ]
  },
  {
   "cell_type": "code",
   "execution_count": null,
   "id": "9837f675",
   "metadata": {},
   "outputs": [],
   "source": []
  }
 ],
 "metadata": {
  "kernelspec": {
   "display_name": "Python 3 (ipykernel)",
   "language": "python",
   "name": "python3"
  },
  "language_info": {
   "codemirror_mode": {
    "name": "ipython",
    "version": 3
   },
   "file_extension": ".py",
   "mimetype": "text/x-python",
   "name": "python",
   "nbconvert_exporter": "python",
   "pygments_lexer": "ipython3",
   "version": "3.9.12"
  }
 },
 "nbformat": 4,
 "nbformat_minor": 5
}
